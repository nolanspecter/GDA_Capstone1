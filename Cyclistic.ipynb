{
  "nbformat": 4,
  "nbformat_minor": 0,
  "metadata": {
    "colab": {
      "name": "Cyclistic.ipynb",
      "provenance": []
    },
    "kernelspec": {
      "name": "python3",
      "display_name": "Python 3"
    },
    "language_info": {
      "name": "python"
    }
  },
  "cells": [
    {
      "cell_type": "markdown",
      "metadata": {
        "id": "P6FSJO0iRY1F"
      },
      "source": [
        "# Google Data Analytics Capstone Project 1: Cyclistics"
      ]
    },
    {
      "cell_type": "markdown",
      "metadata": {
        "id": "5ok2RQ-BRg1U"
      },
      "source": [
        "## Import data"
      ]
    },
    {
      "cell_type": "code",
      "metadata": {
        "colab": {
          "base_uri": "https://localhost:8080/"
        },
        "id": "vJuoH2bNpEFJ",
        "outputId": "06a669d7-4ea4-4a34-b359-f51eb2e2f86e"
      },
      "source": [
        "from google.colab import drive\n",
        "drive.mount('/content/drive')\n",
        "%cd drive/MyDrive/GDA Capstone/Cyclistic Data XLXS"
      ],
      "execution_count": 1,
      "outputs": [
        {
          "output_type": "stream",
          "text": [
            "Mounted at /content/drive\n",
            "/content/drive/MyDrive/GDA Capstone/Cyclistic Data XLXS\n"
          ],
          "name": "stdout"
        }
      ]
    },
    {
      "cell_type": "code",
      "metadata": {
        "id": "u3fn4b0GqzgP"
      },
      "source": [
        "import pandas as pd\n",
        "import matplotlib.pyplot as plt\n",
        "import seaborn as sns\n",
        "import numpy as np\n",
        "import statistics"
      ],
      "execution_count": 2,
      "outputs": []
    },
    {
      "cell_type": "code",
      "metadata": {
        "id": "pVLHUE1gvgbj"
      },
      "source": [
        "df1 = pd.read_excel(\"202007-divvy-tripdata.xlsx\")\n",
        "df2 = pd.read_excel(\"202008-divvy-tripdata.xlsx\")\n",
        "df3 = pd.read_excel(\"202009-divvy-tripdata.xlsx\")\n",
        "df4 = pd.read_excel(\"202010-divvy-tripdata.xlsx\")\n",
        "df5 = pd.read_excel(\"202011-divvy-tripdata.xlsx\")\n",
        "df6 = pd.read_excel(\"202012-divvy-tripdata.xlsx\")\n",
        "df7 = pd.read_excel(\"202101-divvy-tripdata.xlsx\")\n",
        "df8 = pd.read_excel(\"202102-divvy-tripdata.xlsx\")\n",
        "df9 = pd.read_excel(\"202103-divvy-tripdata.xlsx\")\n",
        "df10 = pd.read_excel(\"202104-divvy-tripdata.xlsx\")\n",
        "df11 = pd.read_excel(\"202105-divvy-tripdata.xlsx\")\n",
        "df12 = pd.read_excel(\"202106-divvy-tripdata.xlsx\")"
      ],
      "execution_count": 3,
      "outputs": []
    },
    {
      "cell_type": "markdown",
      "metadata": {
        "id": "6ouhPMpsRQMJ"
      },
      "source": [
        "### Conbine all data into one single dataframe"
      ]
    },
    {
      "cell_type": "code",
      "metadata": {
        "id": "VYWQhw32v-QC"
      },
      "source": [
        "df = pd.concat([df1,df2,df3,df4,df5,df6,df7,df8,df9,df10,df11,df12])"
      ],
      "execution_count": 5,
      "outputs": []
    },
    {
      "cell_type": "code",
      "metadata": {
        "colab": {
          "base_uri": "https://localhost:8080/",
          "height": 289
        },
        "id": "EGKL4q9bwIx5",
        "outputId": "d3a49a8e-29c3-4bf6-9763-2df1771d0e06"
      },
      "source": [
        "df.head()"
      ],
      "execution_count": 6,
      "outputs": [
        {
          "output_type": "execute_result",
          "data": {
            "text/html": [
              "<div>\n",
              "<style scoped>\n",
              "    .dataframe tbody tr th:only-of-type {\n",
              "        vertical-align: middle;\n",
              "    }\n",
              "\n",
              "    .dataframe tbody tr th {\n",
              "        vertical-align: top;\n",
              "    }\n",
              "\n",
              "    .dataframe thead th {\n",
              "        text-align: right;\n",
              "    }\n",
              "</style>\n",
              "<table border=\"1\" class=\"dataframe\">\n",
              "  <thead>\n",
              "    <tr style=\"text-align: right;\">\n",
              "      <th></th>\n",
              "      <th>ride_id</th>\n",
              "      <th>rideable_type</th>\n",
              "      <th>started_at</th>\n",
              "      <th>ended_at</th>\n",
              "      <th>start_station_name</th>\n",
              "      <th>start_station_id</th>\n",
              "      <th>end_station_name</th>\n",
              "      <th>end_station_id</th>\n",
              "      <th>start_lat</th>\n",
              "      <th>start_lng</th>\n",
              "      <th>end_lat</th>\n",
              "      <th>end_lng</th>\n",
              "      <th>member_casual</th>\n",
              "      <th>ride_length</th>\n",
              "      <th>day_of_week</th>\n",
              "      <th>week_day</th>\n",
              "    </tr>\n",
              "  </thead>\n",
              "  <tbody>\n",
              "    <tr>\n",
              "      <th>0</th>\n",
              "      <td>762198876D69004D</td>\n",
              "      <td>docked_bike</td>\n",
              "      <td>2020-07-09 15:22:02</td>\n",
              "      <td>2020-07-09 15:25:52</td>\n",
              "      <td>Ritchie Ct &amp; Banks St</td>\n",
              "      <td>180</td>\n",
              "      <td>Wells St &amp; Evergreen Ave</td>\n",
              "      <td>291</td>\n",
              "      <td>41.906866</td>\n",
              "      <td>-87.626217</td>\n",
              "      <td>41.906724</td>\n",
              "      <td>-87.634830</td>\n",
              "      <td>member</td>\n",
              "      <td>230</td>\n",
              "      <td>4</td>\n",
              "      <td>Thursday</td>\n",
              "    </tr>\n",
              "    <tr>\n",
              "      <th>1</th>\n",
              "      <td>BEC9C9FBA0D4CF1B</td>\n",
              "      <td>docked_bike</td>\n",
              "      <td>2020-07-24 23:56:30</td>\n",
              "      <td>2020-07-25 00:20:17</td>\n",
              "      <td>Halsted St &amp; Roscoe St</td>\n",
              "      <td>299</td>\n",
              "      <td>Broadway &amp; Ridge Ave</td>\n",
              "      <td>461</td>\n",
              "      <td>41.943670</td>\n",
              "      <td>-87.648950</td>\n",
              "      <td>41.984045</td>\n",
              "      <td>-87.660274</td>\n",
              "      <td>member</td>\n",
              "      <td>1427</td>\n",
              "      <td>5</td>\n",
              "      <td>Friday</td>\n",
              "    </tr>\n",
              "    <tr>\n",
              "      <th>2</th>\n",
              "      <td>D2FD8EA432C77EC1</td>\n",
              "      <td>docked_bike</td>\n",
              "      <td>2020-07-08 19:49:07</td>\n",
              "      <td>2020-07-08 19:56:22</td>\n",
              "      <td>Lake Shore Dr &amp; Diversey Pkwy</td>\n",
              "      <td>329</td>\n",
              "      <td>Clark St &amp; Wellington Ave</td>\n",
              "      <td>156</td>\n",
              "      <td>41.932588</td>\n",
              "      <td>-87.636427</td>\n",
              "      <td>41.936497</td>\n",
              "      <td>-87.647539</td>\n",
              "      <td>casual</td>\n",
              "      <td>435</td>\n",
              "      <td>3</td>\n",
              "      <td>Wednesday</td>\n",
              "    </tr>\n",
              "    <tr>\n",
              "      <th>3</th>\n",
              "      <td>54AE594E20B35881</td>\n",
              "      <td>docked_bike</td>\n",
              "      <td>2020-07-17 19:06:42</td>\n",
              "      <td>2020-07-17 19:27:38</td>\n",
              "      <td>LaSalle St &amp; Illinois St</td>\n",
              "      <td>181</td>\n",
              "      <td>Clark St &amp; Armitage Ave</td>\n",
              "      <td>94</td>\n",
              "      <td>41.890762</td>\n",
              "      <td>-87.631697</td>\n",
              "      <td>41.918306</td>\n",
              "      <td>-87.636282</td>\n",
              "      <td>casual</td>\n",
              "      <td>1256</td>\n",
              "      <td>5</td>\n",
              "      <td>Friday</td>\n",
              "    </tr>\n",
              "    <tr>\n",
              "      <th>4</th>\n",
              "      <td>54025FDC7440B56F</td>\n",
              "      <td>docked_bike</td>\n",
              "      <td>2020-07-04 10:39:57</td>\n",
              "      <td>2020-07-04 10:45:05</td>\n",
              "      <td>Lake Shore Dr &amp; North Blvd</td>\n",
              "      <td>268</td>\n",
              "      <td>Clark St &amp; Schiller St</td>\n",
              "      <td>301</td>\n",
              "      <td>41.911722</td>\n",
              "      <td>-87.626804</td>\n",
              "      <td>41.907993</td>\n",
              "      <td>-87.631501</td>\n",
              "      <td>member</td>\n",
              "      <td>308</td>\n",
              "      <td>6</td>\n",
              "      <td>Saturday</td>\n",
              "    </tr>\n",
              "  </tbody>\n",
              "</table>\n",
              "</div>"
            ],
            "text/plain": [
              "            ride_id rideable_type  ... day_of_week   week_day\n",
              "0  762198876D69004D   docked_bike  ...           4   Thursday\n",
              "1  BEC9C9FBA0D4CF1B   docked_bike  ...           5     Friday\n",
              "2  D2FD8EA432C77EC1   docked_bike  ...           3  Wednesday\n",
              "3  54AE594E20B35881   docked_bike  ...           5     Friday\n",
              "4  54025FDC7440B56F   docked_bike  ...           6   Saturday\n",
              "\n",
              "[5 rows x 16 columns]"
            ]
          },
          "metadata": {},
          "execution_count": 6
        }
      ]
    },
    {
      "cell_type": "markdown",
      "metadata": {
        "id": "F7K5CLAbRVYA"
      },
      "source": [
        "### Drop redundant columns and rows"
      ]
    },
    {
      "cell_type": "code",
      "metadata": {
        "id": "LIWAsWJk2SAF"
      },
      "source": [
        "df.drop(['start_lat','start_lng','end_lat', 'end_lng'], axis=1, inplace=True)"
      ],
      "execution_count": 7,
      "outputs": []
    },
    {
      "cell_type": "markdown",
      "metadata": {
        "id": "fuq-ZxZqSOJu"
      },
      "source": [
        "As ride which lasted less than a minute can usually be staffs taking bikes out to check their quality or users changing their mind right after taking the bikes out so we will remove it from the dataset."
      ]
    },
    {
      "cell_type": "code",
      "metadata": {
        "id": "wBwZbqiREaJ8"
      },
      "source": [
        "df = df[df.ride_length >= 60]"
      ],
      "execution_count": 8,
      "outputs": []
    },
    {
      "cell_type": "code",
      "metadata": {
        "colab": {
          "base_uri": "https://localhost:8080/",
          "height": 289
        },
        "id": "5yoLglrIzjwq",
        "outputId": "f70d4c37-d7a2-4398-e0e3-d645560997da"
      },
      "source": [
        "df.head()"
      ],
      "execution_count": 9,
      "outputs": [
        {
          "output_type": "execute_result",
          "data": {
            "text/html": [
              "<div>\n",
              "<style scoped>\n",
              "    .dataframe tbody tr th:only-of-type {\n",
              "        vertical-align: middle;\n",
              "    }\n",
              "\n",
              "    .dataframe tbody tr th {\n",
              "        vertical-align: top;\n",
              "    }\n",
              "\n",
              "    .dataframe thead th {\n",
              "        text-align: right;\n",
              "    }\n",
              "</style>\n",
              "<table border=\"1\" class=\"dataframe\">\n",
              "  <thead>\n",
              "    <tr style=\"text-align: right;\">\n",
              "      <th></th>\n",
              "      <th>ride_id</th>\n",
              "      <th>rideable_type</th>\n",
              "      <th>started_at</th>\n",
              "      <th>ended_at</th>\n",
              "      <th>start_station_name</th>\n",
              "      <th>start_station_id</th>\n",
              "      <th>end_station_name</th>\n",
              "      <th>end_station_id</th>\n",
              "      <th>member_casual</th>\n",
              "      <th>ride_length</th>\n",
              "      <th>day_of_week</th>\n",
              "      <th>week_day</th>\n",
              "    </tr>\n",
              "  </thead>\n",
              "  <tbody>\n",
              "    <tr>\n",
              "      <th>0</th>\n",
              "      <td>762198876D69004D</td>\n",
              "      <td>docked_bike</td>\n",
              "      <td>2020-07-09 15:22:02</td>\n",
              "      <td>2020-07-09 15:25:52</td>\n",
              "      <td>Ritchie Ct &amp; Banks St</td>\n",
              "      <td>180</td>\n",
              "      <td>Wells St &amp; Evergreen Ave</td>\n",
              "      <td>291</td>\n",
              "      <td>member</td>\n",
              "      <td>230</td>\n",
              "      <td>4</td>\n",
              "      <td>Thursday</td>\n",
              "    </tr>\n",
              "    <tr>\n",
              "      <th>1</th>\n",
              "      <td>BEC9C9FBA0D4CF1B</td>\n",
              "      <td>docked_bike</td>\n",
              "      <td>2020-07-24 23:56:30</td>\n",
              "      <td>2020-07-25 00:20:17</td>\n",
              "      <td>Halsted St &amp; Roscoe St</td>\n",
              "      <td>299</td>\n",
              "      <td>Broadway &amp; Ridge Ave</td>\n",
              "      <td>461</td>\n",
              "      <td>member</td>\n",
              "      <td>1427</td>\n",
              "      <td>5</td>\n",
              "      <td>Friday</td>\n",
              "    </tr>\n",
              "    <tr>\n",
              "      <th>2</th>\n",
              "      <td>D2FD8EA432C77EC1</td>\n",
              "      <td>docked_bike</td>\n",
              "      <td>2020-07-08 19:49:07</td>\n",
              "      <td>2020-07-08 19:56:22</td>\n",
              "      <td>Lake Shore Dr &amp; Diversey Pkwy</td>\n",
              "      <td>329</td>\n",
              "      <td>Clark St &amp; Wellington Ave</td>\n",
              "      <td>156</td>\n",
              "      <td>casual</td>\n",
              "      <td>435</td>\n",
              "      <td>3</td>\n",
              "      <td>Wednesday</td>\n",
              "    </tr>\n",
              "    <tr>\n",
              "      <th>3</th>\n",
              "      <td>54AE594E20B35881</td>\n",
              "      <td>docked_bike</td>\n",
              "      <td>2020-07-17 19:06:42</td>\n",
              "      <td>2020-07-17 19:27:38</td>\n",
              "      <td>LaSalle St &amp; Illinois St</td>\n",
              "      <td>181</td>\n",
              "      <td>Clark St &amp; Armitage Ave</td>\n",
              "      <td>94</td>\n",
              "      <td>casual</td>\n",
              "      <td>1256</td>\n",
              "      <td>5</td>\n",
              "      <td>Friday</td>\n",
              "    </tr>\n",
              "    <tr>\n",
              "      <th>4</th>\n",
              "      <td>54025FDC7440B56F</td>\n",
              "      <td>docked_bike</td>\n",
              "      <td>2020-07-04 10:39:57</td>\n",
              "      <td>2020-07-04 10:45:05</td>\n",
              "      <td>Lake Shore Dr &amp; North Blvd</td>\n",
              "      <td>268</td>\n",
              "      <td>Clark St &amp; Schiller St</td>\n",
              "      <td>301</td>\n",
              "      <td>member</td>\n",
              "      <td>308</td>\n",
              "      <td>6</td>\n",
              "      <td>Saturday</td>\n",
              "    </tr>\n",
              "  </tbody>\n",
              "</table>\n",
              "</div>"
            ],
            "text/plain": [
              "            ride_id rideable_type  ... day_of_week   week_day\n",
              "0  762198876D69004D   docked_bike  ...           4   Thursday\n",
              "1  BEC9C9FBA0D4CF1B   docked_bike  ...           5     Friday\n",
              "2  D2FD8EA432C77EC1   docked_bike  ...           3  Wednesday\n",
              "3  54AE594E20B35881   docked_bike  ...           5     Friday\n",
              "4  54025FDC7440B56F   docked_bike  ...           6   Saturday\n",
              "\n",
              "[5 rows x 12 columns]"
            ]
          },
          "metadata": {},
          "execution_count": 9
        }
      ]
    },
    {
      "cell_type": "code",
      "metadata": {
        "colab": {
          "base_uri": "https://localhost:8080/"
        },
        "id": "AGRhnSD-zlSD",
        "outputId": "56d41db7-1ab7-4d90-cc84-7507a6a9cc82"
      },
      "source": [
        "df.shape"
      ],
      "execution_count": 10,
      "outputs": [
        {
          "output_type": "execute_result",
          "data": {
            "text/plain": [
              "(4382635, 12)"
            ]
          },
          "metadata": {},
          "execution_count": 10
        }
      ]
    },
    {
      "cell_type": "markdown",
      "metadata": {
        "id": "KDngHRFpTKVd"
      },
      "source": [
        "## Adding data and splitting the dataset"
      ]
    },
    {
      "cell_type": "code",
      "metadata": {
        "id": "BUP6zrKA01c1"
      },
      "source": [
        "df['start_date'] = df['started_at'].dt.day \n",
        "df['end_date'] = df['ended_at'].dt.day\n",
        "df['month'] = df['started_at'].dt.month\n",
        "df['year'] = df['started_at'].dt.year"
      ],
      "execution_count": 12,
      "outputs": []
    },
    {
      "cell_type": "code",
      "metadata": {
        "id": "s-1PiY092gVC"
      },
      "source": [
        "df.head()\n",
        "df.to_csv(\"aggregated_data.csv\")"
      ],
      "execution_count": 29,
      "outputs": []
    },
    {
      "cell_type": "code",
      "metadata": {
        "id": "LXL5g40A4i5v",
        "colab": {
          "base_uri": "https://localhost:8080/"
        },
        "outputId": "55caa37f-0e40-47e5-a3f9-bfc40d5c5388"
      },
      "source": [
        "len(df[df.member_casual=='member']),len(df[df.member_casual=='casual'])"
      ],
      "execution_count": 14,
      "outputs": [
        {
          "output_type": "execute_result",
          "data": {
            "text/plain": [
              "(2482153, 1900482)"
            ]
          },
          "metadata": {},
          "execution_count": 14
        }
      ]
    },
    {
      "cell_type": "code",
      "metadata": {
        "colab": {
          "base_uri": "https://localhost:8080/",
          "height": 634
        },
        "id": "brLBB084E1hK",
        "outputId": "e90db25e-5478-4df5-c15f-ced3511cb719"
      },
      "source": [
        "plt.figure(figsize=(15,10))\n",
        "sns.histplot(data=df,x='member_casual', hue=\"member_casual\", shrink=0.75)"
      ],
      "execution_count": 15,
      "outputs": [
        {
          "output_type": "execute_result",
          "data": {
            "text/plain": [
              "<matplotlib.axes._subplots.AxesSubplot at 0x7f13abd0de90>"
            ]
          },
          "metadata": {},
          "execution_count": 15
        },
        {
          "output_type": "display_data",
          "data": {
            "image/png": "[encoded data removed]",
            "text/plain": [
              "<Figure size 1080x720 with 1 Axes>"
            ]
          },
          "metadata": {
            "needs_background": "light"
          }
        }
      ]
    },
    {
      "cell_type": "markdown",
      "metadata": {
        "id": "iTcpC5_lUDs5"
      },
      "source": [
        "As we can see the distribution of the the member type is about **62%** and **38%** for **member** and **casual** respectively"
      ]
    },
    {
      "cell_type": "markdown",
      "metadata": {
        "id": "LXeUle1dTU3P"
      },
      "source": [
        "Splitting the data into 2 categories: member and casual for future analysis"
      ]
    },
    {
      "cell_type": "code",
      "metadata": {
        "id": "YrhqQSC-FNxQ"
      },
      "source": [
        "df_member = df[df.member_casual=='member']\n",
        "df_member.to_csv(\"member_only.csv\")\n",
        "df_casual = df[df.member_casual=='casual']\n",
        "df_casual.to_csv(\"casual_only.csv\")"
      ],
      "execution_count": 30,
      "outputs": []
    },
    {
      "cell_type": "markdown",
      "metadata": {
        "id": "Y4Bla_8eHMjE"
      },
      "source": [
        "## Descriptive Analysis"
      ]
    },
    {
      "cell_type": "code",
      "metadata": {
        "id": "3ZmCOj8XHgyQ"
      },
      "source": [
        "mean_ride_length = pd.DataFrame({'member_type':['member', 'casual'], 'mean_ride_length': [np.mean(df_member['ride_length']), np.mean(df_casual['ride_length'])]})"
      ],
      "execution_count": 17,
      "outputs": []
    },
    {
      "cell_type": "code",
      "metadata": {
        "colab": {
          "base_uri": "https://localhost:8080/",
          "height": 111
        },
        "id": "hW8rsExvH9iT",
        "outputId": "05667242-384e-42c0-a1a3-933cec51a3e3"
      },
      "source": [
        "mean_ride_length"
      ],
      "execution_count": 18,
      "outputs": [
        {
          "output_type": "execute_result",
          "data": {
            "text/html": [
              "<div>\n",
              "<style scoped>\n",
              "    .dataframe tbody tr th:only-of-type {\n",
              "        vertical-align: middle;\n",
              "    }\n",
              "\n",
              "    .dataframe tbody tr th {\n",
              "        vertical-align: top;\n",
              "    }\n",
              "\n",
              "    .dataframe thead th {\n",
              "        text-align: right;\n",
              "    }\n",
              "</style>\n",
              "<table border=\"1\" class=\"dataframe\">\n",
              "  <thead>\n",
              "    <tr style=\"text-align: right;\">\n",
              "      <th></th>\n",
              "      <th>member_type</th>\n",
              "      <th>mean_ride_length</th>\n",
              "    </tr>\n",
              "  </thead>\n",
              "  <tbody>\n",
              "    <tr>\n",
              "      <th>0</th>\n",
              "      <td>member</td>\n",
              "      <td>903.198464</td>\n",
              "    </tr>\n",
              "    <tr>\n",
              "      <th>1</th>\n",
              "      <td>casual</td>\n",
              "      <td>2048.667294</td>\n",
              "    </tr>\n",
              "  </tbody>\n",
              "</table>\n",
              "</div>"
            ],
            "text/plain": [
              "  member_type  mean_ride_length\n",
              "0      member        903.198464\n",
              "1      casual       2048.667294"
            ]
          },
          "metadata": {},
          "execution_count": 18
        }
      ]
    },
    {
      "cell_type": "code",
      "metadata": {
        "id": "A1C4RIcFH-pj"
      },
      "source": [
        "median_ride_length = pd.DataFrame({'member_type':['member', 'casual'], 'mean_ride_length': [np.median(df_member['ride_length']), np.median(df_casual['ride_length'])]})"
      ],
      "execution_count": 19,
      "outputs": []
    },
    {
      "cell_type": "code",
      "metadata": {
        "colab": {
          "base_uri": "https://localhost:8080/",
          "height": 111
        },
        "id": "ec2W1f8oI_Xg",
        "outputId": "7cd7cb71-ed14-4784-bfb4-87f68c07accc"
      },
      "source": [
        "median_ride_length"
      ],
      "execution_count": 20,
      "outputs": [
        {
          "output_type": "execute_result",
          "data": {
            "text/html": [
              "<div>\n",
              "<style scoped>\n",
              "    .dataframe tbody tr th:only-of-type {\n",
              "        vertical-align: middle;\n",
              "    }\n",
              "\n",
              "    .dataframe tbody tr th {\n",
              "        vertical-align: top;\n",
              "    }\n",
              "\n",
              "    .dataframe thead th {\n",
              "        text-align: right;\n",
              "    }\n",
              "</style>\n",
              "<table border=\"1\" class=\"dataframe\">\n",
              "  <thead>\n",
              "    <tr style=\"text-align: right;\">\n",
              "      <th></th>\n",
              "      <th>member_type</th>\n",
              "      <th>mean_ride_length</th>\n",
              "    </tr>\n",
              "  </thead>\n",
              "  <tbody>\n",
              "    <tr>\n",
              "      <th>0</th>\n",
              "      <td>member</td>\n",
              "      <td>659.0</td>\n",
              "    </tr>\n",
              "    <tr>\n",
              "      <th>1</th>\n",
              "      <td>casual</td>\n",
              "      <td>1173.0</td>\n",
              "    </tr>\n",
              "  </tbody>\n",
              "</table>\n",
              "</div>"
            ],
            "text/plain": [
              "  member_type  mean_ride_length\n",
              "0      member             659.0\n",
              "1      casual            1173.0"
            ]
          },
          "metadata": {},
          "execution_count": 20
        }
      ]
    },
    {
      "cell_type": "code",
      "metadata": {
        "id": "kzTSTCW8JA25"
      },
      "source": [
        "max_ride_length = pd.DataFrame({'member_type':['member', 'casual'], 'mean_ride_length': [max(df_member['ride_length']), max(df_casual['ride_length'])]})"
      ],
      "execution_count": 21,
      "outputs": []
    },
    {
      "cell_type": "code",
      "metadata": {
        "colab": {
          "base_uri": "https://localhost:8080/",
          "height": 111
        },
        "id": "q40P3evAJIKJ",
        "outputId": "7ed44e62-e1d3-4b32-fac4-673fde86b9f4"
      },
      "source": [
        "max_ride_length"
      ],
      "execution_count": 22,
      "outputs": [
        {
          "output_type": "execute_result",
          "data": {
            "text/html": [
              "<div>\n",
              "<style scoped>\n",
              "    .dataframe tbody tr th:only-of-type {\n",
              "        vertical-align: middle;\n",
              "    }\n",
              "\n",
              "    .dataframe tbody tr th {\n",
              "        vertical-align: top;\n",
              "    }\n",
              "\n",
              "    .dataframe thead th {\n",
              "        text-align: right;\n",
              "    }\n",
              "</style>\n",
              "<table border=\"1\" class=\"dataframe\">\n",
              "  <thead>\n",
              "    <tr style=\"text-align: right;\">\n",
              "      <th></th>\n",
              "      <th>member_type</th>\n",
              "      <th>mean_ride_length</th>\n",
              "    </tr>\n",
              "  </thead>\n",
              "  <tbody>\n",
              "    <tr>\n",
              "      <th>0</th>\n",
              "      <td>member</td>\n",
              "      <td>86383</td>\n",
              "    </tr>\n",
              "    <tr>\n",
              "      <th>1</th>\n",
              "      <td>casual</td>\n",
              "      <td>86397</td>\n",
              "    </tr>\n",
              "  </tbody>\n",
              "</table>\n",
              "</div>"
            ],
            "text/plain": [
              "  member_type  mean_ride_length\n",
              "0      member             86383\n",
              "1      casual             86397"
            ]
          },
          "metadata": {},
          "execution_count": 22
        }
      ]
    },
    {
      "cell_type": "code",
      "metadata": {
        "colab": {
          "base_uri": "https://localhost:8080/",
          "height": 729
        },
        "id": "HwNP6p5oL_r3",
        "outputId": "0bcc0863-9ef2-40b7-cd48-3a49aed9df9d"
      },
      "source": [
        "day_ride_mean_member = [np.mean(df_member[df_member.week_day=='Monday'].ride_length),\n",
        "                        np.mean(df_member[df_member.week_day=='Tuesday'].ride_length),\n",
        "                        np.mean(df_member[df_member.week_day=='Wednesday'].ride_length),\n",
        "                        np.mean(df_member[df_member.week_day=='Thursday'].ride_length),\n",
        "                        np.mean(df_member[df_member.week_day=='Friday'].ride_length),\n",
        "                        np.mean(df_member[df_member.week_day=='Saturday'].ride_length),\n",
        "                        np.mean(df_member[df_member.week_day=='Sunday'].ride_length)]\n",
        "\n",
        "day_ride_mean_casual = [np.mean(df_casual[df_casual.week_day=='Monday'].ride_length),\n",
        "                        np.mean(df_casual[df_casual.week_day=='Tuesday'].ride_length),\n",
        "                        np.mean(df_casual[df_casual.week_day=='Wednesday'].ride_length),\n",
        "                        np.mean(df_casual[df_casual.week_day=='Thursday'].ride_length),\n",
        "                        np.mean(df_casual[df_casual.week_day=='Friday'].ride_length),\n",
        "                        np.mean(df_casual[df_casual.week_day=='Saturday'].ride_length),\n",
        "                        np.mean(df_casual[df_casual.week_day=='Sunday'].ride_length)]\n",
        "                \n",
        "labels = ['Monday', 'Tuesday', 'Wednesday', 'Thursday', 'Friday', 'Saturday', 'Sunday']\n",
        "x = np.arange(len(labels))  # the label locations\n",
        "width = 0.35  # the width of the bars\n",
        "\n",
        "fig, ax = plt.subplots(figsize=(15,10))\n",
        "rects1 = ax.bar(x - width/2, day_ride_mean_member, width, label='Member')\n",
        "rects2 = ax.bar(x + width/2, day_ride_mean_casual, width, label='Casual')\n",
        "\n",
        "\n",
        "ax.set_ylabel('Counts')\n",
        "ax.set_title('Mean ride length by day grouped by member type')\n",
        "ax.set_xticks(x)\n",
        "ax.set_xticklabels(labels)\n",
        "ax.legend()\n",
        "fig.tight_layout()\n",
        "\n",
        "plt.show()"
      ],
      "execution_count": 23,
      "outputs": [
        {
          "output_type": "display_data",
          "data": {
            "image/png": "[encoded data removed]",
            "text/plain": [
              "<Figure size 1080x720 with 1 Axes>"
            ]
          },
          "metadata": {
            "needs_background": "light"
          }
        }
      ]
    },
    {
      "cell_type": "code",
      "metadata": {
        "colab": {
          "base_uri": "https://localhost:8080/",
          "height": 729
        },
        "id": "g_OcuD5RKBOL",
        "outputId": "4f318164-9bba-441c-956e-b46546293d1b"
      },
      "source": [
        "labels = ['Monday', 'Tuesday', 'Wednesday', 'Thursday', 'Friday', 'Saturday', 'Sunday']\n",
        "x = np.arange(len(labels))  # the label locations\n",
        "width = 0.35  # the width of the bars\n",
        "member_counts = [331366,357825,382364,357398,367818,368801,316581]\n",
        "casual_counts = [206081,200852,212185,209252,276849,433714,361549]\n",
        "fig, ax = plt.subplots(figsize=(15,10))\n",
        "rects1 = ax.bar(x - width/2, member_counts, width, label='Member')\n",
        "rects2 = ax.bar(x + width/2, casual_counts, width, label='Casual')\n",
        "\n",
        "\n",
        "ax.set_ylabel('Counts')\n",
        "ax.set_title('Users count by days')\n",
        "ax.set_xticks(x)\n",
        "ax.set_xticklabels(labels)\n",
        "ax.legend()\n",
        "fig.tight_layout()\n",
        "\n",
        "plt.show()"
      ],
      "execution_count": 24,
      "outputs": [
        {
          "output_type": "display_data",
          "data": {
            "image/png": "[encoded data removed]",
            "text/plain": [
              "<Figure size 1080x720 with 1 Axes>"
            ]
          },
          "metadata": {
            "needs_background": "light"
          }
        }
      ]
    },
    {
      "cell_type": "markdown",
      "metadata": {
        "id": "jcAD-jf1V2uM"
      },
      "source": [
        "One thing that can easily be seen from the charts is that, across the week, casual users tend to use the bikes longer than member users. However the number of member user on weekdays are much higher than that of casual members. Another thing is that the number of member user is stable throughout the week, while that of casual user has a rise at the weekend."
      ]
    },
    {
      "cell_type": "code",
      "metadata": {
        "id": "PGB8gzPrKzsh",
        "colab": {
          "base_uri": "https://localhost:8080/",
          "height": 729
        },
        "outputId": "8e004676-9237-4561-c2ea-76952dd057cb"
      },
      "source": [
        "month_ride_mean_member = [np.mean(df_member[df_member.month==1].ride_length),\n",
        "                        np.mean(df_member[df_member.month==2].ride_length),\n",
        "                        np.mean(df_member[df_member.month==3].ride_length),\n",
        "                        np.mean(df_member[df_member.month==4].ride_length),\n",
        "                        np.mean(df_member[df_member.month==5].ride_length),\n",
        "                        np.mean(df_member[df_member.month==6].ride_length),\n",
        "                        np.mean(df_member[df_member.month==7].ride_length),\n",
        "                        np.mean(df_member[df_member.month==8].ride_length),\n",
        "                        np.mean(df_member[df_member.month==9].ride_length),\n",
        "                        np.mean(df_member[df_member.month==10].ride_length),\n",
        "                        np.mean(df_member[df_member.month==11].ride_length),\n",
        "                        np.mean(df_member[df_member.month==12].ride_length)]\n",
        "\n",
        "month_ride_mean_casual = [np.mean(df_casual[df_casual.month==1].ride_length),\n",
        "                        np.mean(df_casual[df_casual.month==2].ride_length),\n",
        "                        np.mean(df_casual[df_casual.month==3].ride_length),\n",
        "                        np.mean(df_casual[df_casual.month==4].ride_length),\n",
        "                        np.mean(df_casual[df_casual.month==5].ride_length),\n",
        "                        np.mean(df_casual[df_casual.month==6].ride_length),\n",
        "                        np.mean(df_casual[df_casual.month==7].ride_length),\n",
        "                        np.mean(df_casual[df_casual.month==8].ride_length),\n",
        "                        np.mean(df_casual[df_casual.month==9].ride_length),\n",
        "                        np.mean(df_casual[df_casual.month==10].ride_length),\n",
        "                        np.mean(df_casual[df_casual.month==11].ride_length),\n",
        "                        np.mean(df_casual[df_casual.month==12].ride_length)]\n",
        "                        \n",
        "labels = ['Jan', 'Feb', 'Mar', 'Apr', 'May', 'June', 'Jul', 'Aug', 'Sep', 'Oct', 'Nov', 'Dec']\n",
        "x = np.arange(len(labels))  # the label locations\n",
        "width = 0.35  # the width of the bars\n",
        "\n",
        "fig, ax = plt.subplots(figsize=(15,10))\n",
        "rects1 = ax.bar(x - width/2, month_ride_mean_member, width, label='Member')\n",
        "rects2 = ax.bar(x + width/2, month_ride_mean_casual, width, label='Casual')\n",
        "\n",
        "\n",
        "ax.set_ylabel('Counts')\n",
        "ax.set_title('Mean ride length by month grouped by member type')\n",
        "ax.set_xticks(x)\n",
        "ax.set_xticklabels(labels)\n",
        "ax.legend()\n",
        "fig.tight_layout()\n",
        "\n",
        "plt.show()"
      ],
      "execution_count": 25,
      "outputs": [
        {
          "output_type": "display_data",
          "data": {
            "image/png": "[encoded data removed]",
            "text/plain": [
              "<Figure size 1080x720 with 1 Axes>"
            ]
          },
          "metadata": {
            "needs_background": "light"
          }
        }
      ]
    },
    {
      "cell_type": "code",
      "metadata": {
        "colab": {
          "base_uri": "https://localhost:8080/",
          "height": 729
        },
        "id": "9eVJeeS2HAbp",
        "outputId": "532b2197-143d-4a09-9a1e-d0868d2f2fc0"
      },
      "source": [
        "labels = ['Jan', 'Feb', 'Mar', 'Apr', 'May', 'June', 'Jul', 'Aug', 'Sep', 'Oct', 'Nov', 'Dec']\n",
        "x = np.arange(len(labels))  # the label locations\n",
        "width = 0.35  # the width of the bars\n",
        "member_counts = [df_member[df_member.month==1].ride_id.count(),\n",
        "                 df_member[df_member.month==2].ride_id.count(),\n",
        "                 df_member[df_member.month==3].ride_id.count(),\n",
        "                 df_member[df_member.month==4].ride_id.count(),\n",
        "                 df_member[df_member.month==5].ride_id.count(),\n",
        "                 df_member[df_member.month==6].ride_id.count(),\n",
        "                 df_member[df_member.month==7].ride_id.count(),\n",
        "                 df_member[df_member.month==8].ride_id.count(),\n",
        "                 df_member[df_member.month==9].ride_id.count(),\n",
        "                 df_member[df_member.month==10].ride_id.count(),\n",
        "                 df_member[df_member.month==11].ride_id.count(),\n",
        "                 df_member[df_member.month==12].ride_id.count()]\n",
        "\n",
        "casual_counts = [df_casual[df_casual.month==1].ride_id.count(),\n",
        "                 df_casual[df_casual.month==2].ride_id.count(),\n",
        "                 df_casual[df_casual.month==3].ride_id.count(),\n",
        "                 df_casual[df_casual.month==4].ride_id.count(),\n",
        "                 df_casual[df_casual.month==5].ride_id.count(),\n",
        "                 df_casual[df_casual.month==6].ride_id.count(),\n",
        "                 df_casual[df_casual.month==7].ride_id.count(),\n",
        "                 df_casual[df_casual.month==8].ride_id.count(),\n",
        "                 df_casual[df_casual.month==9].ride_id.count(),\n",
        "                 df_casual[df_casual.month==10].ride_id.count(),\n",
        "                 df_casual[df_casual.month==11].ride_id.count(),\n",
        "                 df_casual[df_casual.month==12].ride_id.count()]\n",
        "\n",
        "fig, ax = plt.subplots(figsize=(15,10))\n",
        "rects1 = ax.bar(x - width/2, member_counts, width, label='Member')\n",
        "rects2 = ax.bar(x + width/2, casual_counts, width, label='Casual')\n",
        "\n",
        "\n",
        "ax.set_ylabel('Counts')\n",
        "ax.set_title('Users count by months')\n",
        "ax.set_xticks(x)\n",
        "ax.set_xticklabels(labels)\n",
        "ax.legend()\n",
        "fig.tight_layout()\n",
        "\n",
        "plt.show()"
      ],
      "execution_count": 26,
      "outputs": [
        {
          "output_type": "display_data",
          "data": {
            "image/png": "[encoded data removed]",
            "text/plain": [
              "<Figure size 1080x720 with 1 Axes>"
            ]
          },
          "metadata": {
            "needs_background": "light"
          }
        }
      ]
    },
    {
      "cell_type": "markdown",
      "metadata": {
        "id": "G_vFdJC7Xgud"
      },
      "source": [
        "When grouped by months, we can see the general trend where the casual user ride longer but the number of rider is less is still true. However looking at the counts for each month, we can see that during the winter, the number of user dropped significantly comparing to the summer."
      ]
    },
    {
      "cell_type": "code",
      "metadata": {
        "id": "O-frskdIJZOg"
      },
      "source": [
        ""
      ],
      "execution_count": 26,
      "outputs": []
    }
  ]
}